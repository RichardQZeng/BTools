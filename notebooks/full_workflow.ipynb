{
 "cells": [
  {
   "cell_type": "code",
   "execution_count": null,
   "metadata": {},
   "outputs": [],
   "source": [
    "import os\n",
    "gdal_env = os.environ.get(\"GDAL_DATA\")\n",
    "gdal_env"
   ]
  },
  {
   "cell_type": "code",
   "execution_count": null,
   "metadata": {},
   "outputs": [],
   "source": [
    "from beratools.tools.centerline import centerline\n",
    "from beratools.tools.canopy_threshold_relative import main_canopy_threshold_relative\n",
    "from beratools.tools.line_footprint_functions import main_line_footprint_relative\n",
    "from beratools.tools.line_footprint_fixed import line_footprint_fixed\n",
    "\n",
    "import yaml"
   ]
  },
  {
   "cell_type": "code",
   "execution_count": 3,
   "metadata": {},
   "outputs": [],
   "source": [
    "processes = 10\n",
    "verbose = False"
   ]
  },
  {
   "cell_type": "code",
   "execution_count": 4,
   "metadata": {},
   "outputs": [],
   "source": [
    "with open('./params_win.yml') as in_params:\n",
    "    params = yaml.safe_load(in_params)"
   ]
  },
  {
   "cell_type": "markdown",
   "metadata": {},
   "source": [
    "### centerline"
   ]
  },
  {
   "cell_type": "code",
   "execution_count": null,
   "metadata": {},
   "outputs": [],
   "source": [
    "args_centerline = params['args_centerline']\n",
    "args_centerline"
   ]
  },
  {
   "cell_type": "code",
   "execution_count": null,
   "metadata": {},
   "outputs": [],
   "source": [
    "# centerline(in_line, in_chm, line_radius, proc_segments, out_line, processes, verbose)\n",
    "centerline(**args_centerline, processes=processes, verbose=verbose)"
   ]
  },
  {
   "cell_type": "markdown",
   "metadata": {},
   "source": [
    "### canopy footprint"
   ]
  },
  {
   "cell_type": "code",
   "execution_count": 6,
   "metadata": {},
   "outputs": [],
   "source": [
    "args_canopy_threshold = params[\"args_canopy_threshold\"]\n",
    "args_canopy_threshold"
   ]
  },
  {
   "cell_type": "code",
   "execution_count": null,
   "metadata": {},
   "outputs": [],
   "source": [
    "dy_cl_line = main_canopy_threshold_relative(\n",
    "    callback=print, **args_canopy_threshold, processes=processes, verbose=verbose\n",
    ")"
   ]
  },
  {
   "cell_type": "code",
   "execution_count": 8,
   "metadata": {},
   "outputs": [],
   "source": [
    "args_line_footprint_relative = params[\"args_line_footprint_relative\"]\n",
    "args_line_footprint_relative"
   ]
  },
  {
   "cell_type": "code",
   "execution_count": null,
   "metadata": {},
   "outputs": [],
   "source": [
    "main_line_footprint_relative(\n",
    "    callback=print, **args_line_footprint_relative, processes=processes, verbose=verbose\n",
    ")"
   ]
  },
  {
   "cell_type": "markdown",
   "metadata": {},
   "source": [
    "### ground footprint"
   ]
  },
  {
   "cell_type": "code",
   "execution_count": 10,
   "metadata": {},
   "outputs": [],
   "source": [
    "args_line_footprint_fixed = params[\"args_line_footprint_fixed\"]\n",
    "args_line_footprint_fixed"
   ]
  },
  {
   "cell_type": "code",
   "execution_count": null,
   "metadata": {},
   "outputs": [],
   "source": [
    "line_footprint_fixed(\n",
    "    callback=print, **args_line_footprint_fixed, processes=processes, verbose=verbose\n",
    ")"
   ]
  }
 ],
 "metadata": {
  "kernelspec": {
   "display_name": "Python 3",
   "language": "python",
   "name": "python3"
  },
  "language_info": {
   "codemirror_mode": {
    "name": "ipython",
    "version": 3
   },
   "file_extension": ".py",
   "mimetype": "text/x-python",
   "name": "python",
   "nbconvert_exporter": "python",
   "pygments_lexer": "ipython3",
   "version": "3.11.11"
  }
 },
 "nbformat": 4,
 "nbformat_minor": 2
}

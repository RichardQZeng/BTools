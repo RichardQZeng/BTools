{
 "cells": [
  {
   "cell_type": "code",
   "execution_count": null,
   "metadata": {},
   "outputs": [],
   "source": [
    "import os\n",
    "gdal_env = os.environ.get(\"GDAL_DATA\")\n",
    "gdal_env"
   ]
  },
  {
   "cell_type": "code",
   "execution_count": 2,
   "metadata": {},
   "outputs": [],
   "source": [
    "import sys\n",
    "sys.path.append('/home/qingyerichard.zeng/BERATools/BTools')"
   ]
  },
  {
   "cell_type": "code",
   "execution_count": null,
   "metadata": {},
   "outputs": [],
   "source": [
    "from beratools.tools.centerline import centerline\n",
    "from beratools.core.algo_canopy_threshold_relative import main_canopy_threshold_relative\n",
    "from beratools.core.algo_line_footprint_functions import main_line_footprint_relative\n",
    "from beratools.tools.line_footprint_fixed import line_footprint_fixed\n",
    "from notebooks.footprint_canopy import FootprintCanopy\n",
    "\n",
    "import yaml"
   ]
  },
  {
   "cell_type": "code",
   "execution_count": 4,
   "metadata": {},
   "outputs": [],
   "source": [
    "processes = 48\n",
    "verbose = False"
   ]
  },
  {
   "cell_type": "code",
   "execution_count": 5,
   "metadata": {},
   "outputs": [],
   "source": [
    "with open('./params_hpc.yml') as in_params:\n",
    "    params = yaml.safe_load(in_params)"
   ]
  },
  {
   "cell_type": "markdown",
   "metadata": {},
   "source": [
    "### centerline"
   ]
  },
  {
   "cell_type": "code",
   "execution_count": null,
   "metadata": {},
   "outputs": [],
   "source": [
    "args_centerline = params['args_centerline']\n",
    "args_centerline"
   ]
  },
  {
   "cell_type": "code",
   "execution_count": null,
   "metadata": {},
   "outputs": [],
   "source": [
    "centerline(**args_centerline, processes=processes, verbose=verbose)"
   ]
  },
  {
   "cell_type": "markdown",
   "metadata": {},
   "source": [
    "### canopy footprint"
   ]
  },
  {
   "cell_type": "code",
   "execution_count": null,
   "metadata": {},
   "outputs": [],
   "source": [
    "# args_canopy_threshold = params[\"args_canopy_threshold\"]\n",
    "# args_canopy_threshold\n",
    "# dy_cl_line = main_canopy_threshold_relative(\n",
    "#     callback=print, **args_canopy_threshold, processes=processes, verbose=verbose\n",
    "# )"
   ]
  },
  {
   "cell_type": "code",
   "execution_count": null,
   "metadata": {},
   "outputs": [],
   "source": [
    "# args_line_footprint_relative = params[\"args_line_footprint_relative\"]\n",
    "# args_line_footprint_relative\n",
    "# main_line_footprint_relative(\n",
    "#     callback=print, **args_line_footprint_relative, processes=processes, verbose=verbose\n",
    "# )"
   ]
  },
  {
   "cell_type": "code",
   "execution_count": null,
   "metadata": {},
   "outputs": [],
   "source": [
    "fp_params = params['args_footprint_canopy']\n",
    "in_file = fp_params['in_file']\n",
    "in_chm = fp_params[\"in_chm\"]\n",
    "out_file_percentile = fp_params[\"out_file_percentile\"]\n",
    "out_file_fp = fp_params[\"out_file_fp\"]"
   ]
  },
  {
   "cell_type": "code",
   "execution_count": null,
   "metadata": {},
   "outputs": [],
   "source": [
    "footprint = FootprintCanopy(in_file, in_chm)\n",
    "footprint.compute()\n",
    "\n",
    "footprint.savve_line_percentile(out_file_percentile)\n",
    "footprint.save_footprint(out_file_fp)"
   ]
  },
  {
   "cell_type": "markdown",
   "metadata": {},
   "source": [
    "### ground footprint"
   ]
  },
  {
   "cell_type": "code",
   "execution_count": null,
   "metadata": {},
   "outputs": [],
   "source": [
    "args_line_footprint_fixed = params[\"args_line_footprint_fixed\"]\n",
    "print(args_line_footprint_fixed)\n",
    "line_footprint_fixed(\n",
    "    callback=print, **args_line_footprint_fixed, processes=processes, verbose=verbose\n",
    ")"
   ]
  },
  {
   "cell_type": "code",
   "execution_count": null,
   "metadata": {},
   "outputs": [],
   "source": ""
  },
  {
   "cell_type": "code",
   "execution_count": null,
   "metadata": {},
   "outputs": [],
   "source": []
  }
 ],
 "metadata": {
  "kernelspec": {
   "display_name": "bera",
   "language": "python",
   "name": "python3"
  },
  "language_info": {
   "codemirror_mode": {
    "name": "ipython",
    "version": 3
   },
   "file_extension": ".py",
   "mimetype": "text/x-python",
   "name": "python",
   "nbconvert_exporter": "python",
   "pygments_lexer": "ipython3",
   "version": "3.11.11"
  }
 },
 "nbformat": 4,
 "nbformat_minor": 2
}

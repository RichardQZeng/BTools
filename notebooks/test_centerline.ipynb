{
 "cells": [
  {
   "cell_type": "code",
   "execution_count": null,
   "metadata": {},
   "outputs": [],
   "source": [
    "import os\n",
    "gdal_env = os.environ.get(\"GDAL_DATA\")\n",
    "gdal_env"
   ]
  },
  {
   "cell_type": "code",
   "execution_count": null,
   "metadata": {},
   "outputs": [],
   "source": [
    "from beratools.tools.centerline import centerline\n",
    "from beratools.tools.canopy_threshold_relative import main_canopy_threshold_relative\n",
    "from beratools.tools.line_footprint_functions import main_line_footprint_relative\n",
    "from beratools.tools.line_footprint_fixed import line_footprint_fixed"
   ]
  },
  {
   "cell_type": "code",
   "execution_count": 3,
   "metadata": {},
   "outputs": [],
   "source": [
    "processes = 10\n",
    "verbose = False"
   ]
  },
  {
   "cell_type": "markdown",
   "metadata": {},
   "source": [
    "### centerline"
   ]
  },
  {
   "cell_type": "code",
   "execution_count": 4,
   "metadata": {},
   "outputs": [],
   "source": [
    "args_cl = {\n",
    "    \"in_line\": r\"I:\\BERATools\\Surmont_New_AOI\\Developement\\seed_lines_2022.shp\",\n",
    "    \"in_raster\": r\"I:\\BERATools\\Surmont_New_AOI\\Developement\\CHM_New_AOI_2022.tif\",\n",
    "    \"line_radius\": 15,\n",
    "    \"proc_segments\": True,\n",
    "    \"out_line\": r\"I:\\BERATools\\Surmont_New_AOI\\Developement\\centerline.shp\",\n",
    "}"
   ]
  },
  {
   "cell_type": "code",
   "execution_count": null,
   "metadata": {},
   "outputs": [],
   "source": [
    "# centerline(in_line, in_chm, line_radius, proc_segments, out_line, processes, verbose)\n",
    "centerline(**args_cl, processes=processes, verbose=verbose)"
   ]
  },
  {
   "cell_type": "markdown",
   "metadata": {},
   "source": [
    "### canopy footprint"
   ]
  },
  {
   "cell_type": "code",
   "execution_count": 6,
   "metadata": {},
   "outputs": [],
   "source": [
    "args_ct = {\n",
    "    \"in_line\": r\"I:\\BERATools\\Surmont_New_AOI\\Developement\\centerline.shp\",\n",
    "    \"in_chm\": r\"I:\\BERATools\\Surmont_New_AOI\\Developement\\CHM_New_AOI_2022.tif\",\n",
    "    \"off_ln_dist\": 10,\n",
    "    \"canopy_percentile\": 90,\n",
    "    \"canopy_thresh_percentage\": 50,\n",
    "    \"tree_radius\": 1.5,\n",
    "    \"max_line_dist\": 1.5,\n",
    "    \"canopy_avoidance\": 0.0,\n",
    "    \"exponent\": 1,\n",
    "    \"full_step\": True,\n",
    "}"
   ]
  },
  {
   "cell_type": "code",
   "execution_count": null,
   "metadata": {},
   "outputs": [],
   "source": [
    "dy_cl_line = main_canopy_threshold_relative(\n",
    "    callback=print,\n",
    "    **args_ct,\n",
    "    processes=processes,\n",
    "    verbose=verbose\n",
    ")"
   ]
  },
  {
   "cell_type": "code",
   "execution_count": 8,
   "metadata": {},
   "outputs": [],
   "source": [
    "args_ft = {\n",
    "    \"in_line\": r\"i:\\BERATools\\Surmont_New_AOI\\Developement\\DynCanTh_centerline.shp\",\n",
    "    \"in_chm\": r\"I:\\BERATools\\Surmont_New_AOI\\Developement\\CHM_New_AOI_2022.tif\",\n",
    "    \"max_ln_width\": 32,\n",
    "    \"exp_shk_cell\": 0,\n",
    "    \"tree_radius\": 1.5, \n",
    "    \"max_line_dist\": 1.5, \n",
    "    \"canopy_avoidance\": 0.0, \n",
    "    \"exponent\": 0, \n",
    "    \"full_step\": False, \n",
    "    \"canopy_thresh_percentage\": 50,\n",
    "    \"out_footprint\": r\"I:\\BERATools\\Surmont_New_AOI\\Developement\\footprint_canopy.shp\",\n",
    "    \"out_centerline\": r\"I:\\BERATools\\Surmont_New_AOI\\Developement\\temp_centerline.shp\",\n",
    "}"
   ]
  },
  {
   "cell_type": "code",
   "execution_count": null,
   "metadata": {},
   "outputs": [],
   "source": [
    "main_line_footprint_relative(callback=print, **args_ft, processes=processes, verbose=verbose)"
   ]
  },
  {
   "cell_type": "markdown",
   "metadata": {},
   "source": [
    "### ground footprint"
   ]
  },
  {
   "cell_type": "code",
   "execution_count": 10,
   "metadata": {},
   "outputs": [],
   "source": [
    "args_ff = {\n",
    "    \"in_line\": r\"I:\\BERATools\\Surmont_New_AOI\\Developement\\centerline.shp\",\n",
    "    \"in_footprint\": r\"I:\\BERATools\\Surmont_New_AOI\\Developement\\footprint_canopy.shp\",\n",
    "    \"n_samples\": 15,\n",
    "    \"offset\": 30,\n",
    "    \"max_width\": True,\n",
    "    \"out_footprint\": r\"I:\\BERATools\\Surmont_New_AOI\\Developement\\footprint_final.gpkg\",\n",
    "}"
   ]
  },
  {
   "cell_type": "code",
   "execution_count": null,
   "metadata": {},
   "outputs": [],
   "source": [
    "line_footprint_fixed(callback=print, **args_ff, processes=processes, verbose=verbose)"
   ]
  }
 ],
 "metadata": {
  "kernelspec": {
   "display_name": "bera",
   "language": "python",
   "name": "python3"
  },
  "language_info": {
   "codemirror_mode": {
    "name": "ipython",
    "version": 3
   },
   "file_extension": ".py",
   "mimetype": "text/x-python",
   "name": "python",
   "nbconvert_exporter": "python",
   "pygments_lexer": "ipython3",
   "version": "3.11.11"
  }
 },
 "nbformat": 4,
 "nbformat_minor": 2
}

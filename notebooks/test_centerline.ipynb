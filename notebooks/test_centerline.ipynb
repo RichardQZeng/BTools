{
 "cells": [
  {
   "cell_type": "code",
   "execution_count": null,
   "metadata": {},
   "outputs": [],
   "source": [
    "from beratools.tools import centerline"
   ]
  },
  {
   "cell_type": "code",
   "execution_count": null,
   "metadata": {},
   "outputs": [],
   "source": [
    "in_line = r\"C:\\BERATools\\BTools\\tests\\testdata\\input_lines.shp\"\n",
    "in_raster = r\"C:\\BERATools\\BTools\\tests\\testdata\\chm.tif\"\n",
    "line_radius = 15\n",
    "proc_segments = True\n",
    "out_line = r\"D:\\Temp\\test.shp\""
   ]
  },
  {
   "cell_type": "code",
   "execution_count": null,
   "metadata": {},
   "outputs": [],
   "source": [
    "centerline.centerline(print, in_line, in_raster, line_radius,\n",
    "                      proc_segments, out_line, 10, False)"
   ]
  },
  {
   "cell_type": "code",
   "execution_count": 1,
   "metadata": {},
   "outputs": [],
   "source": [
    "from worker import _foo"
   ]
  },
  {
   "cell_type": "code",
   "execution_count": 2,
   "metadata": {},
   "outputs": [
    {
     "name": "stderr",
     "output_type": "stream",
     "text": [
      "100%|██████████| 30/30 [00:15<00:00,  1.97it/s]\n"
     ]
    }
   ],
   "source": [
    "from multiprocessing import Pool\n",
    "import time\n",
    "from tqdm import tqdm\n",
    "\n",
    "\n",
    "if __name__ == '__main__':\n",
    "    with Pool(processes=2) as p:\n",
    "        max_ = 30\n",
    "        with tqdm(total=max_) as pbar:\n",
    "            for _ in p.imap_unordered(_foo, range(0, max_)):\n",
    "                pbar.update()"
   ]
  },
  {
   "cell_type": "code",
   "execution_count": null,
   "metadata": {},
   "outputs": [],
   "source": []
  }
 ],
 "metadata": {
  "kernelspec": {
   "display_name": "test",
   "language": "python",
   "name": "python3"
  },
  "language_info": {
   "codemirror_mode": {
    "name": "ipython",
    "version": 3
   },
   "file_extension": ".py",
   "mimetype": "text/x-python",
   "name": "python",
   "nbconvert_exporter": "python",
   "pygments_lexer": "ipython3",
   "version": "3.11.9"
  }
 },
 "nbformat": 4,
 "nbformat_minor": 2
}
